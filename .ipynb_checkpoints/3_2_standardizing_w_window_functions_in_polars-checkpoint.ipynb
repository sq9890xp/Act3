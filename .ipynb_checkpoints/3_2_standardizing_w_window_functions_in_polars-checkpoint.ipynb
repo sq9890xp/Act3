{
 "cells": [
  {
   "cell_type": "markdown",
   "metadata": {},
   "source": [
    "# Standardizing variables with window function in `polars`"
   ]
  },
  {
   "cell_type": "markdown",
   "metadata": {
    "id": "ZEOztvyEgTQx"
   },
   "source": [
    "## Window functions in `Python`/`polars`\n",
    "\n",
    "To make a computation with a *window function* with `dplyr`, \n",
    "\n",
    "1. Use `select` or `with_columns` to create a new column,\n",
    "2. Dot-chain `pl.col('col name)` into a summary functions like `mean`, then finally\n",
    "2. use `over` with a column summary function to compute the window summary for each row."
   ]
  },
  {
   "cell_type": "code",
   "execution_count": 1,
   "metadata": {
    "id": "re32c3vfgNbp"
   },
   "outputs": [],
   "source": [
    "import polars as pl\n",
    "import polars.selectors as cs"
   ]
  },
  {
   "cell_type": "code",
   "execution_count": 2,
   "metadata": {
    "colab": {
     "base_uri": "https://localhost:8080/",
     "height": 338
    },
    "id": "SmFmznNEgbBS",
    "outputId": "8f6f209d-cc59-4507-b840-c7de4dc61e68"
   },
   "outputs": [
    {
     "data": {
      "text/html": [
       "<div><style>\n",
       ".dataframe > thead > tr,\n",
       ".dataframe > tbody > tr {\n",
       "  text-align: right;\n",
       "  white-space: pre-wrap;\n",
       "}\n",
       "</style>\n",
       "<small>shape: (8, 2)</small><table border=\"1\" class=\"dataframe\"><thead><tr><th>Group</th><th>Data</th></tr><tr><td>str</td><td>i64</td></tr></thead><tbody><tr><td>&quot;a&quot;</td><td>5</td></tr><tr><td>&quot;a&quot;</td><td>3</td></tr><tr><td>&quot;b&quot;</td><td>4</td></tr><tr><td>&quot;b&quot;</td><td>1</td></tr><tr><td>&quot;b&quot;</td><td>2</td></tr><tr><td>&quot;c&quot;</td><td>3</td></tr><tr><td>&quot;c&quot;</td><td>5</td></tr><tr><td>&quot;c&quot;</td><td>3</td></tr></tbody></table></div>"
      ],
      "text/plain": [
       "shape: (8, 2)\n",
       "┌───────┬──────┐\n",
       "│ Group ┆ Data │\n",
       "│ ---   ┆ ---  │\n",
       "│ str   ┆ i64  │\n",
       "╞═══════╪══════╡\n",
       "│ a     ┆ 5    │\n",
       "│ a     ┆ 3    │\n",
       "│ b     ┆ 4    │\n",
       "│ b     ┆ 1    │\n",
       "│ b     ┆ 2    │\n",
       "│ c     ┆ 3    │\n",
       "│ c     ┆ 5    │\n",
       "│ c     ┆ 3    │\n",
       "└───────┴──────┘"
      ]
     },
     "execution_count": 2,
     "metadata": {},
     "output_type": "execute_result"
    }
   ],
   "source": [
    "data = pl.DataFrame({'Group':['a', 'a', 'b', 'b', 'b', 'c', 'c', 'c',],\n",
    "                     'Data' :[5, 3, 4, 1, 2, 3, 5, 3]})\n",
    "data"
   ]
  },
  {
   "cell_type": "markdown",
   "metadata": {},
   "source": [
    "## Window functions over the default partition\n",
    "\n",
    "To compute statistics over the default partition, e.g., the grand mean or grand total, simply apply the desired summary method to a the column expression."
   ]
  },
  {
   "cell_type": "markdown",
   "metadata": {},
   "source": [
    "### Example 1 - Computing the grand mean, total, & SD"
   ]
  },
  {
   "cell_type": "markdown",
   "metadata": {},
   "source": [
    "#### Simple aggregation"
   ]
  },
  {
   "cell_type": "code",
   "execution_count": 3,
   "metadata": {},
   "outputs": [
    {
     "data": {
      "text/html": [
       "<div><style>\n",
       ".dataframe > thead > tr,\n",
       ".dataframe > tbody > tr {\n",
       "  text-align: right;\n",
       "  white-space: pre-wrap;\n",
       "}\n",
       "</style>\n",
       "<small>shape: (1, 3)</small><table border=\"1\" class=\"dataframe\"><thead><tr><th>grand_mean</th><th>grand_total</th><th>grand_SD</th></tr><tr><td>f64</td><td>i64</td><td>f64</td></tr></thead><tbody><tr><td>3.25</td><td>26</td><td>1.38873</td></tr></tbody></table></div>"
      ],
      "text/plain": [
       "shape: (1, 3)\n",
       "┌────────────┬─────────────┬──────────┐\n",
       "│ grand_mean ┆ grand_total ┆ grand_SD │\n",
       "│ ---        ┆ ---         ┆ ---      │\n",
       "│ f64        ┆ i64         ┆ f64      │\n",
       "╞════════════╪═════════════╪══════════╡\n",
       "│ 3.25       ┆ 26          ┆ 1.38873  │\n",
       "└────────────┴─────────────┴──────────┘"
      ]
     },
     "execution_count": 3,
     "metadata": {},
     "output_type": "execute_result"
    }
   ],
   "source": [
    "( data\n",
    "  .select(grand_mean = pl.col('Data').mean(),\n",
    "          grand_total = pl.col('Data').sum(),\n",
    "          grand_SD = pl.col('Data').std(),\n",
    "               )\n",
    ")"
   ]
  },
  {
   "cell_type": "markdown",
   "metadata": {},
   "source": [
    "#### Grouped aggregation"
   ]
  },
  {
   "cell_type": "code",
   "execution_count": 4,
   "metadata": {},
   "outputs": [
    {
     "data": {
      "text/html": [
       "<div><style>\n",
       ".dataframe > thead > tr,\n",
       ".dataframe > tbody > tr {\n",
       "  text-align: right;\n",
       "  white-space: pre-wrap;\n",
       "}\n",
       "</style>\n",
       "<small>shape: (3, 4)</small><table border=\"1\" class=\"dataframe\"><thead><tr><th>Group</th><th>group_mean</th><th>group_total</th><th>group_SD</th></tr><tr><td>str</td><td>f64</td><td>i64</td><td>f64</td></tr></thead><tbody><tr><td>&quot;b&quot;</td><td>2.333333</td><td>7</td><td>1.527525</td></tr><tr><td>&quot;c&quot;</td><td>3.666667</td><td>11</td><td>1.154701</td></tr><tr><td>&quot;a&quot;</td><td>4.0</td><td>8</td><td>1.414214</td></tr></tbody></table></div>"
      ],
      "text/plain": [
       "shape: (3, 4)\n",
       "┌───────┬────────────┬─────────────┬──────────┐\n",
       "│ Group ┆ group_mean ┆ group_total ┆ group_SD │\n",
       "│ ---   ┆ ---        ┆ ---         ┆ ---      │\n",
       "│ str   ┆ f64        ┆ i64         ┆ f64      │\n",
       "╞═══════╪════════════╪═════════════╪══════════╡\n",
       "│ b     ┆ 2.333333   ┆ 7           ┆ 1.527525 │\n",
       "│ c     ┆ 3.666667   ┆ 11          ┆ 1.154701 │\n",
       "│ a     ┆ 4.0        ┆ 8           ┆ 1.414214 │\n",
       "└───────┴────────────┴─────────────┴──────────┘"
      ]
     },
     "execution_count": 4,
     "metadata": {},
     "output_type": "execute_result"
    }
   ],
   "source": [
    "(data\n",
    "  .group_by('Group')\n",
    "  .agg(group_mean = pl.col('Data').mean(),\n",
    "       group_total = pl.col('Data').sum(),\n",
    "       group_SD = pl.col('Data').std(),\n",
    "               )\n",
    ")"
   ]
  },
  {
   "cell_type": "markdown",
   "metadata": {},
   "source": [
    "#### Column statistics (Grand statistics)"
   ]
  },
  {
   "cell_type": "code",
   "execution_count": 6,
   "metadata": {
    "scrolled": true
   },
   "outputs": [
    {
     "data": {
      "text/html": [
       "<div><style>\n",
       ".dataframe > thead > tr,\n",
       ".dataframe > tbody > tr {\n",
       "  text-align: right;\n",
       "  white-space: pre-wrap;\n",
       "}\n",
       "</style>\n",
       "<small>shape: (8, 5)</small><table border=\"1\" class=\"dataframe\"><thead><tr><th>Group</th><th>Data</th><th>grand_mean</th><th>grand_total</th><th>grand_SD</th></tr><tr><td>str</td><td>i64</td><td>f64</td><td>i64</td><td>f64</td></tr></thead><tbody><tr><td>&quot;a&quot;</td><td>5</td><td>3.25</td><td>26</td><td>1.38873</td></tr><tr><td>&quot;a&quot;</td><td>3</td><td>3.25</td><td>26</td><td>1.38873</td></tr><tr><td>&quot;b&quot;</td><td>4</td><td>3.25</td><td>26</td><td>1.38873</td></tr><tr><td>&quot;b&quot;</td><td>1</td><td>3.25</td><td>26</td><td>1.38873</td></tr><tr><td>&quot;b&quot;</td><td>2</td><td>3.25</td><td>26</td><td>1.38873</td></tr><tr><td>&quot;c&quot;</td><td>3</td><td>3.25</td><td>26</td><td>1.38873</td></tr><tr><td>&quot;c&quot;</td><td>5</td><td>3.25</td><td>26</td><td>1.38873</td></tr><tr><td>&quot;c&quot;</td><td>3</td><td>3.25</td><td>26</td><td>1.38873</td></tr></tbody></table></div>"
      ],
      "text/plain": [
       "shape: (8, 5)\n",
       "┌───────┬──────┬────────────┬─────────────┬──────────┐\n",
       "│ Group ┆ Data ┆ grand_mean ┆ grand_total ┆ grand_SD │\n",
       "│ ---   ┆ ---  ┆ ---        ┆ ---         ┆ ---      │\n",
       "│ str   ┆ i64  ┆ f64        ┆ i64         ┆ f64      │\n",
       "╞═══════╪══════╪════════════╪═════════════╪══════════╡\n",
       "│ a     ┆ 5    ┆ 3.25       ┆ 26          ┆ 1.38873  │\n",
       "│ a     ┆ 3    ┆ 3.25       ┆ 26          ┆ 1.38873  │\n",
       "│ b     ┆ 4    ┆ 3.25       ┆ 26          ┆ 1.38873  │\n",
       "│ b     ┆ 1    ┆ 3.25       ┆ 26          ┆ 1.38873  │\n",
       "│ b     ┆ 2    ┆ 3.25       ┆ 26          ┆ 1.38873  │\n",
       "│ c     ┆ 3    ┆ 3.25       ┆ 26          ┆ 1.38873  │\n",
       "│ c     ┆ 5    ┆ 3.25       ┆ 26          ┆ 1.38873  │\n",
       "│ c     ┆ 3    ┆ 3.25       ┆ 26          ┆ 1.38873  │\n",
       "└───────┴──────┴────────────┴─────────────┴──────────┘"
      ]
     },
     "execution_count": 6,
     "metadata": {},
     "output_type": "execute_result"
    }
   ],
   "source": [
    "( data\n",
    "  .with_columns(grand_mean = pl.col('Data').mean(),\n",
    "                grand_total = pl.col('Data').sum(),\n",
    "                grand_SD = pl.col('Data').std(),\n",
    "               )\n",
    ")"
   ]
  },
  {
   "cell_type": "markdown",
   "metadata": {},
   "source": [
    "#### Column statistics (Group statistics)"
   ]
  },
  {
   "cell_type": "code",
   "execution_count": 7,
   "metadata": {},
   "outputs": [
    {
     "data": {
      "text/html": [
       "<div><style>\n",
       ".dataframe > thead > tr,\n",
       ".dataframe > tbody > tr {\n",
       "  text-align: right;\n",
       "  white-space: pre-wrap;\n",
       "}\n",
       "</style>\n",
       "<small>shape: (8, 5)</small><table border=\"1\" class=\"dataframe\"><thead><tr><th>Group</th><th>Data</th><th>grand_mean</th><th>grand_total</th><th>grand_SD</th></tr><tr><td>str</td><td>i64</td><td>f64</td><td>i64</td><td>f64</td></tr></thead><tbody><tr><td>&quot;a&quot;</td><td>5</td><td>4.0</td><td>8</td><td>1.414214</td></tr><tr><td>&quot;a&quot;</td><td>3</td><td>4.0</td><td>8</td><td>1.414214</td></tr><tr><td>&quot;b&quot;</td><td>4</td><td>2.333333</td><td>7</td><td>1.527525</td></tr><tr><td>&quot;b&quot;</td><td>1</td><td>2.333333</td><td>7</td><td>1.527525</td></tr><tr><td>&quot;b&quot;</td><td>2</td><td>2.333333</td><td>7</td><td>1.527525</td></tr><tr><td>&quot;c&quot;</td><td>3</td><td>3.666667</td><td>11</td><td>1.154701</td></tr><tr><td>&quot;c&quot;</td><td>5</td><td>3.666667</td><td>11</td><td>1.154701</td></tr><tr><td>&quot;c&quot;</td><td>3</td><td>3.666667</td><td>11</td><td>1.154701</td></tr></tbody></table></div>"
      ],
      "text/plain": [
       "shape: (8, 5)\n",
       "┌───────┬──────┬────────────┬─────────────┬──────────┐\n",
       "│ Group ┆ Data ┆ grand_mean ┆ grand_total ┆ grand_SD │\n",
       "│ ---   ┆ ---  ┆ ---        ┆ ---         ┆ ---      │\n",
       "│ str   ┆ i64  ┆ f64        ┆ i64         ┆ f64      │\n",
       "╞═══════╪══════╪════════════╪═════════════╪══════════╡\n",
       "│ a     ┆ 5    ┆ 4.0        ┆ 8           ┆ 1.414214 │\n",
       "│ a     ┆ 3    ┆ 4.0        ┆ 8           ┆ 1.414214 │\n",
       "│ b     ┆ 4    ┆ 2.333333   ┆ 7           ┆ 1.527525 │\n",
       "│ b     ┆ 1    ┆ 2.333333   ┆ 7           ┆ 1.527525 │\n",
       "│ b     ┆ 2    ┆ 2.333333   ┆ 7           ┆ 1.527525 │\n",
       "│ c     ┆ 3    ┆ 3.666667   ┆ 11          ┆ 1.154701 │\n",
       "│ c     ┆ 5    ┆ 3.666667   ┆ 11          ┆ 1.154701 │\n",
       "│ c     ┆ 3    ┆ 3.666667   ┆ 11          ┆ 1.154701 │\n",
       "└───────┴──────┴────────────┴─────────────┴──────────┘"
      ]
     },
     "execution_count": 7,
     "metadata": {},
     "output_type": "execute_result"
    }
   ],
   "source": [
    "( data\n",
    "  .with_columns(grand_mean = pl.col('Data').mean().over('Group'),\n",
    "                grand_total = pl.col('Data').sum().over('Group'),\n",
    "                grand_SD = pl.col('Data').std().over('Group'),\n",
    "               )\n",
    ")"
   ]
  },
  {
   "cell_type": "markdown",
   "metadata": {},
   "source": [
    "### Standardizing variables using window function.\n",
    "\n",
    "Simply make an expression that includes the window function column expression."
   ]
  },
  {
   "cell_type": "markdown",
   "metadata": {},
   "source": [
    "#### Example 2 - Various standardized fields"
   ]
  },
  {
   "cell_type": "code",
   "execution_count": 8,
   "metadata": {},
   "outputs": [
    {
     "data": {
      "text/html": [
       "<div><style>\n",
       ".dataframe > thead > tr,\n",
       ".dataframe > tbody > tr {\n",
       "  text-align: right;\n",
       "  white-space: pre-wrap;\n",
       "}\n",
       "</style>\n",
       "<small>shape: (8, 5)</small><table border=\"1\" class=\"dataframe\"><thead><tr><th>Group</th><th>Data</th><th>mean_centered</th><th>z_score</th><th>percent_of_total</th></tr><tr><td>str</td><td>i64</td><td>f64</td><td>f64</td><td>f64</td></tr></thead><tbody><tr><td>&quot;a&quot;</td><td>5</td><td>1.75</td><td>1.260144</td><td>19.230769</td></tr><tr><td>&quot;a&quot;</td><td>3</td><td>-0.25</td><td>-0.180021</td><td>11.538462</td></tr><tr><td>&quot;b&quot;</td><td>4</td><td>0.75</td><td>0.540062</td><td>15.384615</td></tr><tr><td>&quot;b&quot;</td><td>1</td><td>-2.25</td><td>-1.620185</td><td>3.846154</td></tr><tr><td>&quot;b&quot;</td><td>2</td><td>-1.25</td><td>-0.900103</td><td>7.692308</td></tr><tr><td>&quot;c&quot;</td><td>3</td><td>-0.25</td><td>-0.180021</td><td>11.538462</td></tr><tr><td>&quot;c&quot;</td><td>5</td><td>1.75</td><td>1.260144</td><td>19.230769</td></tr><tr><td>&quot;c&quot;</td><td>3</td><td>-0.25</td><td>-0.180021</td><td>11.538462</td></tr></tbody></table></div>"
      ],
      "text/plain": [
       "shape: (8, 5)\n",
       "┌───────┬──────┬───────────────┬───────────┬──────────────────┐\n",
       "│ Group ┆ Data ┆ mean_centered ┆ z_score   ┆ percent_of_total │\n",
       "│ ---   ┆ ---  ┆ ---           ┆ ---       ┆ ---              │\n",
       "│ str   ┆ i64  ┆ f64           ┆ f64       ┆ f64              │\n",
       "╞═══════╪══════╪═══════════════╪═══════════╪══════════════════╡\n",
       "│ a     ┆ 5    ┆ 1.75          ┆ 1.260144  ┆ 19.230769        │\n",
       "│ a     ┆ 3    ┆ -0.25         ┆ -0.180021 ┆ 11.538462        │\n",
       "│ b     ┆ 4    ┆ 0.75          ┆ 0.540062  ┆ 15.384615        │\n",
       "│ b     ┆ 1    ┆ -2.25         ┆ -1.620185 ┆ 3.846154         │\n",
       "│ b     ┆ 2    ┆ -1.25         ┆ -0.900103 ┆ 7.692308         │\n",
       "│ c     ┆ 3    ┆ -0.25         ┆ -0.180021 ┆ 11.538462        │\n",
       "│ c     ┆ 5    ┆ 1.75          ┆ 1.260144  ┆ 19.230769        │\n",
       "│ c     ┆ 3    ┆ -0.25         ┆ -0.180021 ┆ 11.538462        │\n",
       "└───────┴──────┴───────────────┴───────────┴──────────────────┘"
      ]
     },
     "execution_count": 8,
     "metadata": {},
     "output_type": "execute_result"
    }
   ],
   "source": [
    "std_data = (data\n",
    "            .with_columns(mean_centered = pl.col('Data') - pl.col('Data').mean(),\n",
    "                          z_score = (pl.col('Data') - pl.col('Data').mean())/pl.col('Data').std(),\n",
    "                          percent_of_total = 100*pl.col('Data')/pl.col('Data').sum(),\n",
    "                         )\n",
    "           )\n",
    "std_data"
   ]
  },
  {
   "cell_type": "markdown",
   "metadata": {},
   "source": [
    "#### Double-checking the standardization"
   ]
  },
  {
   "cell_type": "code",
   "execution_count": 9,
   "metadata": {},
   "outputs": [
    {
     "data": {
      "text/html": [
       "<div><style>\n",
       ".dataframe > thead > tr,\n",
       ".dataframe > tbody > tr {\n",
       "  text-align: right;\n",
       "  white-space: pre-wrap;\n",
       "}\n",
       "</style>\n",
       "<small>shape: (1, 4)</small><table border=\"1\" class=\"dataframe\"><thead><tr><th>mean of mean_centered</th><th>mean of z_score</th><th>SD of z_score</th><th>total of percent_of_total</th></tr><tr><td>f64</td><td>f64</td><td>f64</td><td>f64</td></tr></thead><tbody><tr><td>0.0</td><td>-0.0</td><td>1.0</td><td>100.0</td></tr></tbody></table></div>"
      ],
      "text/plain": [
       "shape: (1, 4)\n",
       "┌───────────────────────┬─────────────────┬───────────────┬───────────────────────────┐\n",
       "│ mean of mean_centered ┆ mean of z_score ┆ SD of z_score ┆ total of percent_of_total │\n",
       "│ ---                   ┆ ---             ┆ ---           ┆ ---                       │\n",
       "│ f64                   ┆ f64             ┆ f64           ┆ f64                       │\n",
       "╞═══════════════════════╪═════════════════╪═══════════════╪═══════════════════════════╡\n",
       "│ 0.0                   ┆ -0.0            ┆ 1.0           ┆ 100.0                     │\n",
       "└───────────────────────┴─────────────────┴───────────────┴───────────────────────────┘"
      ]
     },
     "execution_count": 9,
     "metadata": {},
     "output_type": "execute_result"
    }
   ],
   "source": [
    "(std_data\n",
    " .select(([pl.mean(c).round(5).alias(f'mean of {c}') for c in ('mean_centered', 'z_score')]\n",
    "          + [pl.std(c).round(5).alias(f'SD of {c}') for c in ('z_score',)] \n",
    "          + [pl.sum(c).round(5).alias(f'total of {c}') for c in ('percent_of_total',)]\n",
    "         )\n",
    " )\n",
    ")"
   ]
  },
  {
   "cell_type": "markdown",
   "metadata": {},
   "source": [
    "## <font color=\"red\"> Exercise 3.3.1 - Range-scaling the variable.</font>\n",
    "\n",
    "Use window functions to range-scale the `Data` column using the default partition.\n",
    "\n",
    "$$y_{range\\;scaled} = \\frac{y - \\min{y}}{\\max{y} - \\min{y}}$$\n",
    "\n",
    "Double check that the new minimum and maximum are zero and one, respectively."
   ]
  },
  {
   "cell_type": "code",
   "execution_count": 32,
   "metadata": {},
   "outputs": [
    {
     "data": {
      "text/html": [
       "<div><style>\n",
       ".dataframe > thead > tr,\n",
       ".dataframe > tbody > tr {\n",
       "  text-align: right;\n",
       "  white-space: pre-wrap;\n",
       "}\n",
       "</style>\n",
       "<small>shape: (8, 3)</small><table border=\"1\" class=\"dataframe\"><thead><tr><th>Group</th><th>Data</th><th>Range Scale</th></tr><tr><td>str</td><td>i64</td><td>f64</td></tr></thead><tbody><tr><td>&quot;a&quot;</td><td>5</td><td>1.0</td></tr><tr><td>&quot;a&quot;</td><td>3</td><td>0.5</td></tr><tr><td>&quot;b&quot;</td><td>4</td><td>0.75</td></tr><tr><td>&quot;b&quot;</td><td>1</td><td>0.0</td></tr><tr><td>&quot;b&quot;</td><td>2</td><td>0.25</td></tr><tr><td>&quot;c&quot;</td><td>3</td><td>0.5</td></tr><tr><td>&quot;c&quot;</td><td>5</td><td>1.0</td></tr><tr><td>&quot;c&quot;</td><td>3</td><td>0.5</td></tr></tbody></table></div>"
      ],
      "text/plain": [
       "shape: (8, 3)\n",
       "┌───────┬──────┬─────────────┐\n",
       "│ Group ┆ Data ┆ Range Scale │\n",
       "│ ---   ┆ ---  ┆ ---         │\n",
       "│ str   ┆ i64  ┆ f64         │\n",
       "╞═══════╪══════╪═════════════╡\n",
       "│ a     ┆ 5    ┆ 1.0         │\n",
       "│ a     ┆ 3    ┆ 0.5         │\n",
       "│ b     ┆ 4    ┆ 0.75        │\n",
       "│ b     ┆ 1    ┆ 0.0         │\n",
       "│ b     ┆ 2    ┆ 0.25        │\n",
       "│ c     ┆ 3    ┆ 0.5         │\n",
       "│ c     ┆ 5    ┆ 1.0         │\n",
       "│ c     ┆ 3    ┆ 0.5         │\n",
       "└───────┴──────┴─────────────┘"
      ]
     },
     "execution_count": 32,
     "metadata": {},
     "output_type": "execute_result"
    }
   ],
   "source": [
    "RangeScaledData = (data\n",
    "                   .with_columns([\n",
    "                       ((pl.col(\"Data\") - pl.col(\"Data\").min()) / \n",
    "                        (pl.col(\"Data\").max() - pl.col(\"Data\").min())).alias(\"Range Scale\")\n",
    "                                     ])\n",
    "                  )\n",
    "\n",
    "RangeScaledData"
   ]
  },
  {
   "cell_type": "code",
   "execution_count": 34,
   "metadata": {},
   "outputs": [
    {
     "data": {
      "text/html": [
       "<div><style>\n",
       ".dataframe > thead > tr,\n",
       ".dataframe > tbody > tr {\n",
       "  text-align: right;\n",
       "  white-space: pre-wrap;\n",
       "}\n",
       "</style>\n",
       "<small>shape: (3, 3)</small><table border=\"1\" class=\"dataframe\"><thead><tr><th>Group</th><th>MinScaled</th><th>MaxScaled</th></tr><tr><td>str</td><td>f64</td><td>f64</td></tr></thead><tbody><tr><td>&quot;a&quot;</td><td>0.5</td><td>1.0</td></tr><tr><td>&quot;b&quot;</td><td>0.0</td><td>0.75</td></tr><tr><td>&quot;c&quot;</td><td>0.5</td><td>1.0</td></tr></tbody></table></div>"
      ],
      "text/plain": [
       "shape: (3, 3)\n",
       "┌───────┬───────────┬───────────┐\n",
       "│ Group ┆ MinScaled ┆ MaxScaled │\n",
       "│ ---   ┆ ---       ┆ ---       │\n",
       "│ str   ┆ f64       ┆ f64       │\n",
       "╞═══════╪═══════════╪═══════════╡\n",
       "│ a     ┆ 0.5       ┆ 1.0       │\n",
       "│ b     ┆ 0.0       ┆ 0.75      │\n",
       "│ c     ┆ 0.5       ┆ 1.0       │\n",
       "└───────┴───────────┴───────────┘"
      ]
     },
     "execution_count": 34,
     "metadata": {},
     "output_type": "execute_result"
    }
   ],
   "source": [
    "RangeScaledData.group_by(\"Group\").agg([\n",
    "    pl.col(\"Range Scale\").min().alias(\"MinScaled\"),\n",
    "    pl.col(\"Range Scale\").max().alias(\"MaxScaled\")\n",
    "])"
   ]
  },
  {
   "cell_type": "markdown",
   "metadata": {},
   "source": [
    "## Computing summaries `over` a partition\n",
    "\n",
    "To add a partition other than the default, we use the `.over` method on the column expression."
   ]
  },
  {
   "cell_type": "markdown",
   "metadata": {},
   "source": [
    "### Example 3 - Computing the group mean over `Group`"
   ]
  },
  {
   "cell_type": "code",
   "execution_count": 17,
   "metadata": {},
   "outputs": [
    {
     "data": {
      "text/html": [
       "<div><style>\n",
       ".dataframe > thead > tr,\n",
       ".dataframe > tbody > tr {\n",
       "  text-align: right;\n",
       "  white-space: pre-wrap;\n",
       "}\n",
       "</style>\n",
       "<small>shape: (8, 4)</small><table border=\"1\" class=\"dataframe\"><thead><tr><th>Group</th><th>Data</th><th>group_mean</th><th>BAD</th></tr><tr><td>str</td><td>i64</td><td>f64</td><td>f64</td></tr></thead><tbody><tr><td>&quot;a&quot;</td><td>5</td><td>4.0</td><td>3.25</td></tr><tr><td>&quot;a&quot;</td><td>3</td><td>4.0</td><td>3.25</td></tr><tr><td>&quot;b&quot;</td><td>4</td><td>2.333333</td><td>3.25</td></tr><tr><td>&quot;b&quot;</td><td>1</td><td>2.333333</td><td>3.25</td></tr><tr><td>&quot;b&quot;</td><td>2</td><td>2.333333</td><td>3.25</td></tr><tr><td>&quot;c&quot;</td><td>3</td><td>3.666667</td><td>3.25</td></tr><tr><td>&quot;c&quot;</td><td>5</td><td>3.666667</td><td>3.25</td></tr><tr><td>&quot;c&quot;</td><td>3</td><td>3.666667</td><td>3.25</td></tr></tbody></table></div>"
      ],
      "text/plain": [
       "shape: (8, 4)\n",
       "┌───────┬──────┬────────────┬──────┐\n",
       "│ Group ┆ Data ┆ group_mean ┆ BAD  │\n",
       "│ ---   ┆ ---  ┆ ---        ┆ ---  │\n",
       "│ str   ┆ i64  ┆ f64        ┆ f64  │\n",
       "╞═══════╪══════╪════════════╪══════╡\n",
       "│ a     ┆ 5    ┆ 4.0        ┆ 3.25 │\n",
       "│ a     ┆ 3    ┆ 4.0        ┆ 3.25 │\n",
       "│ b     ┆ 4    ┆ 2.333333   ┆ 3.25 │\n",
       "│ b     ┆ 1    ┆ 2.333333   ┆ 3.25 │\n",
       "│ b     ┆ 2    ┆ 2.333333   ┆ 3.25 │\n",
       "│ c     ┆ 3    ┆ 3.666667   ┆ 3.25 │\n",
       "│ c     ┆ 5    ┆ 3.666667   ┆ 3.25 │\n",
       "│ c     ┆ 3    ┆ 3.666667   ┆ 3.25 │\n",
       "└───────┴──────┴────────────┴──────┘"
      ]
     },
     "execution_count": 17,
     "metadata": {},
     "output_type": "execute_result"
    }
   ],
   "source": [
    "(data\n",
    " .with_columns(group_mean = (pl.col('Data')\n",
    "                               .mean()          # Summary first\n",
    "                               .over('Group')), # over MUST follow the summary method\n",
    "               BAD = (pl.col('Data')\n",
    "                        .over('Group')\n",
    "                        .mean()), # over gets ignored here :(\n",
    "              )\n",
    ")"
   ]
  },
  {
   "cell_type": "markdown",
   "metadata": {},
   "source": [
    "#### Example 4 - Standardizing by group"
   ]
  },
  {
   "cell_type": "code",
   "execution_count": 28,
   "metadata": {},
   "outputs": [
    {
     "data": {
      "text/html": [
       "<div><style>\n",
       ".dataframe > thead > tr,\n",
       ".dataframe > tbody > tr {\n",
       "  text-align: right;\n",
       "  white-space: pre-wrap;\n",
       "}\n",
       "</style>\n",
       "<small>shape: (8, 5)</small><table border=\"1\" class=\"dataframe\"><thead><tr><th>Group</th><th>Data</th><th>mean_centered</th><th>z_score</th><th>percent_of_total</th></tr><tr><td>str</td><td>i64</td><td>f64</td><td>f64</td><td>f64</td></tr></thead><tbody><tr><td>&quot;a&quot;</td><td>5</td><td>1.0</td><td>0.707107</td><td>62.5</td></tr><tr><td>&quot;a&quot;</td><td>3</td><td>-1.0</td><td>-0.707107</td><td>37.5</td></tr><tr><td>&quot;b&quot;</td><td>4</td><td>1.666667</td><td>1.091089</td><td>57.142857</td></tr><tr><td>&quot;b&quot;</td><td>1</td><td>-1.333333</td><td>-0.872872</td><td>14.285714</td></tr><tr><td>&quot;b&quot;</td><td>2</td><td>-0.333333</td><td>-0.218218</td><td>28.571429</td></tr><tr><td>&quot;c&quot;</td><td>3</td><td>-0.666667</td><td>-0.57735</td><td>27.272727</td></tr><tr><td>&quot;c&quot;</td><td>5</td><td>1.333333</td><td>1.154701</td><td>45.454545</td></tr><tr><td>&quot;c&quot;</td><td>3</td><td>-0.666667</td><td>-0.57735</td><td>27.272727</td></tr></tbody></table></div>"
      ],
      "text/plain": [
       "shape: (8, 5)\n",
       "┌───────┬──────┬───────────────┬───────────┬──────────────────┐\n",
       "│ Group ┆ Data ┆ mean_centered ┆ z_score   ┆ percent_of_total │\n",
       "│ ---   ┆ ---  ┆ ---           ┆ ---       ┆ ---              │\n",
       "│ str   ┆ i64  ┆ f64           ┆ f64       ┆ f64              │\n",
       "╞═══════╪══════╪═══════════════╪═══════════╪══════════════════╡\n",
       "│ a     ┆ 5    ┆ 1.0           ┆ 0.707107  ┆ 62.5             │\n",
       "│ a     ┆ 3    ┆ -1.0          ┆ -0.707107 ┆ 37.5             │\n",
       "│ b     ┆ 4    ┆ 1.666667      ┆ 1.091089  ┆ 57.142857        │\n",
       "│ b     ┆ 1    ┆ -1.333333     ┆ -0.872872 ┆ 14.285714        │\n",
       "│ b     ┆ 2    ┆ -0.333333     ┆ -0.218218 ┆ 28.571429        │\n",
       "│ c     ┆ 3    ┆ -0.666667     ┆ -0.57735  ┆ 27.272727        │\n",
       "│ c     ┆ 5    ┆ 1.333333      ┆ 1.154701  ┆ 45.454545        │\n",
       "│ c     ┆ 3    ┆ -0.666667     ┆ -0.57735  ┆ 27.272727        │\n",
       "└───────┴──────┴───────────────┴───────────┴──────────────────┘"
      ]
     },
     "execution_count": 28,
     "metadata": {},
     "output_type": "execute_result"
    }
   ],
   "source": [
    "std_by_grp = ( data\n",
    "              .with_columns(mean_centered = pl.col('Data') - pl.col('Data').mean().over('Group'),\n",
    "                             z_score = (pl.col('Data') - pl.col('Data').mean().over('Group'))/pl.col('Data').std().over('Group'),\n",
    "                             percent_of_total = 100*pl.col('Data')/pl.col('Data').sum().over('Group'),\n",
    "                            )\n",
    "             )\n",
    "std_by_grp"
   ]
  },
  {
   "cell_type": "code",
   "execution_count": 30,
   "metadata": {},
   "outputs": [
    {
     "data": {
      "text/html": [
       "<div><style>\n",
       ".dataframe > thead > tr,\n",
       ".dataframe > tbody > tr {\n",
       "  text-align: right;\n",
       "  white-space: pre-wrap;\n",
       "}\n",
       "</style>\n",
       "<small>shape: (3, 10)</small><table border=\"1\" class=\"dataframe\"><thead><tr><th>Group</th><th>mean of mean_centered</th><th>mean of z_score</th><th>mean of percent_of_total</th><th>SD of mean_centered</th><th>SD of z_score</th><th>SD of percent_of_total</th><th>sum of mean_centered</th><th>sum of z_score</th><th>sum of percent_of_total</th></tr><tr><td>str</td><td>f64</td><td>f64</td><td>f64</td><td>f64</td><td>f64</td><td>f64</td><td>f64</td><td>f64</td><td>f64</td></tr></thead><tbody><tr><td>&quot;c&quot;</td><td>0.0</td><td>0.0</td><td>33.33333</td><td>1.1547</td><td>1.0</td><td>10.49728</td><td>0.0</td><td>0.0</td><td>100.0</td></tr><tr><td>&quot;b&quot;</td><td>-0.0</td><td>-0.0</td><td>33.33333</td><td>1.52753</td><td>1.0</td><td>21.82179</td><td>-0.0</td><td>-0.0</td><td>100.0</td></tr><tr><td>&quot;a&quot;</td><td>0.0</td><td>0.0</td><td>50.0</td><td>1.41421</td><td>1.0</td><td>17.67767</td><td>0.0</td><td>0.0</td><td>100.0</td></tr></tbody></table></div>"
      ],
      "text/plain": [
       "shape: (3, 10)\n",
       "┌───────┬────────────┬────────────┬────────────┬───┬───────────┬───────────┬───────────┬───────────┐\n",
       "│ Group ┆ mean of    ┆ mean of    ┆ mean of    ┆ … ┆ SD of per ┆ sum of    ┆ sum of    ┆ sum of    │\n",
       "│ ---   ┆ mean_cente ┆ z_score    ┆ percent_of ┆   ┆ cent_of_t ┆ mean_cent ┆ z_score   ┆ percent_o │\n",
       "│ str   ┆ red        ┆ ---        ┆ _total     ┆   ┆ otal      ┆ ered      ┆ ---       ┆ f_total   │\n",
       "│       ┆ ---        ┆ f64        ┆ ---        ┆   ┆ ---       ┆ ---       ┆ f64       ┆ ---       │\n",
       "│       ┆ f64        ┆            ┆ f64        ┆   ┆ f64       ┆ f64       ┆           ┆ f64       │\n",
       "╞═══════╪════════════╪════════════╪════════════╪═══╪═══════════╪═══════════╪═══════════╪═══════════╡\n",
       "│ c     ┆ 0.0        ┆ 0.0        ┆ 33.33333   ┆ … ┆ 10.49728  ┆ 0.0       ┆ 0.0       ┆ 100.0     │\n",
       "│ b     ┆ -0.0       ┆ -0.0       ┆ 33.33333   ┆ … ┆ 21.82179  ┆ -0.0      ┆ -0.0      ┆ 100.0     │\n",
       "│ a     ┆ 0.0        ┆ 0.0        ┆ 50.0       ┆ … ┆ 17.67767  ┆ 0.0       ┆ 0.0       ┆ 100.0     │\n",
       "└───────┴────────────┴────────────┴────────────┴───┴───────────┴───────────┴───────────┴───────────┘"
      ]
     },
     "execution_count": 30,
     "metadata": {},
     "output_type": "execute_result"
    }
   ],
   "source": [
    "(std_by_grp\n",
    " .group_by('Group')\n",
    " .agg(cs.float().mean().round(5).name.prefix('mean of '),\n",
    "      cs.float().std().round(5).name.prefix('SD of '),\n",
    "      cs.float().sum().round(5).name.prefix('sum of '),\n",
    "     )\n",
    ")"
   ]
  },
  {
   "cell_type": "markdown",
   "metadata": {},
   "source": [
    "## <font color=\"red\"> Exercise 3.3.2 - Range-scaling `Data` by `Group`</font>\n",
    "\n",
    "Now range-scale the `Data` column using `Group` as the partition.\n",
    "\n",
    "$$y_{range\\;scaled} = \\frac{y - \\min{y}}{\\max{y} - \\min{y}}$$\n",
    "\n",
    "Double check that the new minimum and maximum are zero and one within each group, respectively."
   ]
  },
  {
   "cell_type": "code",
   "execution_count": 26,
   "metadata": {},
   "outputs": [
    {
     "data": {
      "text/html": [
       "<div><style>\n",
       ".dataframe > thead > tr,\n",
       ".dataframe > tbody > tr {\n",
       "  text-align: right;\n",
       "  white-space: pre-wrap;\n",
       "}\n",
       "</style>\n",
       "<small>shape: (8, 3)</small><table border=\"1\" class=\"dataframe\"><thead><tr><th>Group</th><th>Data</th><th>Range Scale by group</th></tr><tr><td>str</td><td>i64</td><td>f64</td></tr></thead><tbody><tr><td>&quot;a&quot;</td><td>5</td><td>1.0</td></tr><tr><td>&quot;a&quot;</td><td>3</td><td>0.0</td></tr><tr><td>&quot;b&quot;</td><td>4</td><td>1.0</td></tr><tr><td>&quot;b&quot;</td><td>1</td><td>0.0</td></tr><tr><td>&quot;b&quot;</td><td>2</td><td>0.333333</td></tr><tr><td>&quot;c&quot;</td><td>3</td><td>0.0</td></tr><tr><td>&quot;c&quot;</td><td>5</td><td>1.0</td></tr><tr><td>&quot;c&quot;</td><td>3</td><td>0.0</td></tr></tbody></table></div>"
      ],
      "text/plain": [
       "shape: (8, 3)\n",
       "┌───────┬──────┬──────────────────────┐\n",
       "│ Group ┆ Data ┆ Range Scale by group │\n",
       "│ ---   ┆ ---  ┆ ---                  │\n",
       "│ str   ┆ i64  ┆ f64                  │\n",
       "╞═══════╪══════╪══════════════════════╡\n",
       "│ a     ┆ 5    ┆ 1.0                  │\n",
       "│ a     ┆ 3    ┆ 0.0                  │\n",
       "│ b     ┆ 4    ┆ 1.0                  │\n",
       "│ b     ┆ 1    ┆ 0.0                  │\n",
       "│ b     ┆ 2    ┆ 0.333333             │\n",
       "│ c     ┆ 3    ┆ 0.0                  │\n",
       "│ c     ┆ 5    ┆ 1.0                  │\n",
       "│ c     ┆ 3    ┆ 0.0                  │\n",
       "└───────┴──────┴──────────────────────┘"
      ]
     },
     "execution_count": 26,
     "metadata": {},
     "output_type": "execute_result"
    }
   ],
   "source": [
    "RangeScaledByGroup = (data\n",
    "                      .with_columns([\n",
    "                          ((pl.col(\"Data\") - pl.col(\"Data\").min().over(\"Group\")) /\n",
    "                           (pl.col(\"Data\").max().over(\"Group\") - pl.col(\"Data\").min().over(\"Group\"))\n",
    "                          ).alias(\"Range Scale by group\")\n",
    "                                  ])\n",
    "                     )\n",
    "\n",
    "RangeScaledByGroup\n",
    "                          "
   ]
  },
  {
   "cell_type": "code",
   "execution_count": 35,
   "metadata": {},
   "outputs": [
    {
     "data": {
      "text/html": [
       "<div><style>\n",
       ".dataframe > thead > tr,\n",
       ".dataframe > tbody > tr {\n",
       "  text-align: right;\n",
       "  white-space: pre-wrap;\n",
       "}\n",
       "</style>\n",
       "<small>shape: (3, 3)</small><table border=\"1\" class=\"dataframe\"><thead><tr><th>Group</th><th>MinScaled</th><th>MaxScaled</th></tr><tr><td>str</td><td>f64</td><td>f64</td></tr></thead><tbody><tr><td>&quot;a&quot;</td><td>0.0</td><td>1.0</td></tr><tr><td>&quot;c&quot;</td><td>0.0</td><td>1.0</td></tr><tr><td>&quot;b&quot;</td><td>0.0</td><td>1.0</td></tr></tbody></table></div>"
      ],
      "text/plain": [
       "shape: (3, 3)\n",
       "┌───────┬───────────┬───────────┐\n",
       "│ Group ┆ MinScaled ┆ MaxScaled │\n",
       "│ ---   ┆ ---       ┆ ---       │\n",
       "│ str   ┆ f64       ┆ f64       │\n",
       "╞═══════╪═══════════╪═══════════╡\n",
       "│ a     ┆ 0.0       ┆ 1.0       │\n",
       "│ c     ┆ 0.0       ┆ 1.0       │\n",
       "│ b     ┆ 0.0       ┆ 1.0       │\n",
       "└───────┴───────────┴───────────┘"
      ]
     },
     "execution_count": 35,
     "metadata": {},
     "output_type": "execute_result"
    }
   ],
   "source": [
    "RangeScaledByGroup.group_by(\"Group\").agg([\n",
    "    pl.col(\"Range Scale by group\").min().alias(\"MinScaled\"),\n",
    "    pl.col(\"Range Scale by group\").max().alias(\"MaxScaled\")\n",
    "])\n"
   ]
  },
  {
   "cell_type": "code",
   "execution_count": null,
   "metadata": {},
   "outputs": [],
   "source": []
  }
 ],
 "metadata": {
  "colab": {
   "provenance": []
  },
  "kernelspec": {
   "display_name": "Python [conda env:.conda-polars]",
   "language": "python",
   "name": "conda-env-.conda-polars-py"
  },
  "language_info": {
   "codemirror_mode": {
    "name": "ipython",
    "version": 3
   },
   "file_extension": ".py",
   "mimetype": "text/x-python",
   "name": "python",
   "nbconvert_exporter": "python",
   "pygments_lexer": "ipython3",
   "version": "3.13.5"
  },
  "vscode": {
   "interpreter": {
    "hash": "37e98c488ab795948d9a6bbd79fc89c5ef1007cbfe1c0139cd64d85e488f4035"
   }
  }
 },
 "nbformat": 4,
 "nbformat_minor": 4
}
